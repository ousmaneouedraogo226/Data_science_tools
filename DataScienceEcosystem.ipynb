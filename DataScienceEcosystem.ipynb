{
 "cells": [
  {
   "cell_type": "markdown",
   "metadata": {},
   "source": [
    "#  Tools for Data science"
   ]
  },
  {
   "cell_type": "markdown",
   "metadata": {},
   "source": [
    "In this course you will be introduced to a Data Scientist's workbench or toolkit that consists of a variety of tools, languages, libraries, APIs, data sets, models, etc. used by Data Scientists. Try not to be overwhelmed by the sheer number of components and tools that exist in the Data Science ecosystem. The main goal of the course is for you to be knowledgeable about the kinds of tools Data Scientists use, their examples, and get some hands-on time with a few key tools. \n"
   ]
  },
  {
   "cell_type": "markdown",
   "metadata": {},
   "source": [
    "## Data Science Languages\n",
    "\n",
    "Here are some commonly used languages in Data Science:\n",
    "\n",
    "1. **Python** - Widely used for machine learning, data analysis, and automation tasks.\n",
    "2. **R** - Popular in statistical analysis and visualization.\n",
    "3. **SQL** - Essential for querying and manipulating structured data in databases.\n",
    "4. **Java** - Used for big data processing, particularly in frameworks like Hadoop.\n",
    "5. **Julia** - Known for high-performance numerical computing.\n",
    "6. **SAS** - Primarily used in analytics and statistical modeling.\n",
    "7. **MATLAB** - Used for mathematical computing and data visualization.\n"
   ]
  },
  {
   "cell_type": "markdown",
   "metadata": {},
   "source": [
    "## Data Science Libraries\n",
    "\n",
    "Here are some popular libraries used in Data Science:\n",
    "\n",
    "1. **Pandas** - Used for data manipulation and analysis, especially with structured data (DataFrames).\n",
    "2. **NumPy** - Essential for numerical computing and working with arrays and matrices.\n",
    "3. **Matplotlib** - A plotting library for creating static, animated, and interactive visualizations.\n",
    "4. **Seaborn** - Built on top of Matplotlib, it simplifies the creation of attractive and informative statistical graphics.\n",
    "5. **Scikit-learn** - A comprehensive library for machine learning, including algorithms for classification, regression, clustering, and more.\n",
    "6. **TensorFlow** - An open-source framework for building and deploying machine learning models, particularly deep learning.\n",
    "7. **Keras** - A high-level API for building neural networks, running on top of TensorFlow.\n",
    "8. **SciPy** - Used for scientific and technical computing, providing advanced mathematical functions.\n",
    "9. **Statsmodels** - A library for statistical modeling and hypothesis testing.\n",
    "10. **PyTorch** - A deep learning framework popular for research and production, known for its flexibility.\n"
   ]
  },
  {
   "cell_type": "markdown",
   "metadata": {},
   "source": [
    "## Data Science Tools\n",
    "\n",
    "Here is a table listing popular tools used in Data Science:\n",
    "\n",
    "| Tool               | Description                                                       |\n",
    "|--------------------|-------------------------------------------------------------------|\n",
    "| **Jupyter Notebook**| An interactive environment for running code and visualizing results. |\n",
    "| **Spyder**          | An IDE primarily for scientific computing with Python.             |\n",
    "| **RStudio**         | A powerful IDE for R, commonly used for statistical analysis.      |\n",
    "| **VS Code**         | A lightweight code editor that supports multiple languages, including Python. |\n",
    "| **TensorFlow**      | A framework for building and deploying machine learning models.    |\n",
    "| **Power BI**        | A business analytics tool for data visualization and reporting.    |\n",
    "| **Tableau**         | A data visualization tool that allows the creation of interactive dashboards. |\n",
    "| **Excel**           | A widely used spreadsheet tool with basic data manipulation and visualization capabilities. |\n",
    "| **Hadoop**          | A framework for distributed storage and processing of big data.    |\n",
    "| **Git**             | A version control system for tracking changes in code and collaborating on projects. |\n"
   ]
  },
  {
   "cell_type": "markdown",
   "metadata": {},
   "source": [
    "## Arithmetic Expression Examples\n",
    "\n",
    "Here are some examples of basic arithmetic expressions:\n",
    "\n",
    "1. **Addition**:  \n",
    "   `3 + 5 = 8`\n",
    "\n",
    "2. **Subtraction**:  \n",
    "   `10 - 4 = 6`\n",
    "\n",
    "3. **Multiplication**:  \n",
    "   `7 * 6 = 42`\n",
    "\n",
    "4. **Division**:  \n",
    "   `20 / 4 = 5`\n",
    "\n",
    "5. **Exponentiation**:  \n",
    "   `2^3 = 8`\n",
    "\n",
    "6. **Modulus** (remainder of division):  \n",
    "   `10 % 3 = 1`\n"
   ]
  },
  {
   "cell_type": "markdown",
   "metadata": {},
   "source": [
    "## Multiplying and adding numbers"
   ]
  },
  {
   "cell_type": "code",
   "execution_count": null,
   "metadata": {},
   "outputs": [],
   "source": [
    "\n",
    "\n",
    "### Define numbers\n",
    "a = 5\n",
    "b = 3\n",
    "c = 8\n",
    "\n",
    "### Multiply a and b\n",
    "multiplication_result = a * b\n",
    "\n",
    "### Add the result of multiplication to c\n",
    "final_result = multiplication_result + c\n",
    "\n",
    "### Output the results\n",
    "multiplication_result, final_result\n"
   ]
  },
  {
   "cell_type": "markdown",
   "metadata": {},
   "source": [
    "## Convert minutes to hours"
   ]
  },
  {
   "cell_type": "code",
   "execution_count": null,
   "metadata": {},
   "outputs": [],
   "source": [
    "\n",
    "\n",
    "# Define the number of minutes\n",
    "minutes = 150\n",
    "\n",
    "### Convert minutes to hours\n",
    "hours = minutes / 60\n",
    "\n",
    "### Output the result\n",
    "print(hours)\n"
   ]
  },
  {
   "cell_type": "markdown",
   "metadata": {},
   "source": [
    "## Objectives of Data Science Tools\n",
    "\n",
    "The main objectives of using data science tools are:\n",
    "\n",
    "- Data Collection and Storage  \n",
    "- Data Cleaning and Preparation  \n",
    "- Data Analysis and Exploration  \n",
    "- Model Building and Evaluation  \n",
    "- Data Visualization  \n",
    "- Reporting and Decision Making\n"
   ]
  },
  {
   "cell_type": "markdown",
   "metadata": {},
   "source": [
    "## Author's Name\n",
    "\n",
    "Ousmane OUEDRAOGO\n"
   ]
  }
 ],
 "metadata": {
  "language_info": {
   "name": "python"
  }
 },
 "nbformat": 4,
 "nbformat_minor": 2
}
